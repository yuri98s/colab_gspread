{
  "nbformat": 4,
  "nbformat_minor": 0,
  "metadata": {
    "colab": {
      "provenance": [],
      "authorship_tag": "ABX9TyN+MTZsaIJ8e6Rquyz8ucKC",
      "include_colab_link": true
    },
    "kernelspec": {
      "name": "python3",
      "display_name": "Python 3"
    },
    "language_info": {
      "name": "python"
    }
  },
  "cells": [
    {
      "cell_type": "markdown",
      "metadata": {
        "id": "view-in-github",
        "colab_type": "text"
      },
      "source": [
        "<a href=\"https://colab.research.google.com/github/yuri98s/colab_gspread/blob/main/colab_gspread.ipynb\" target=\"_parent\"><img src=\"https://colab.research.google.com/assets/colab-badge.svg\" alt=\"Open In Colab\"/></a>"
      ]
    },
    {
      "cell_type": "code",
      "execution_count": 1,
      "metadata": {
        "id": "hRL4nWcg-uBs"
      },
      "outputs": [],
      "source": [
        "#WebScraping\n",
        "import pandas as pd\n",
        "import requests\n",
        "from bs4 import BeautifulSoup\n",
        "#integrar Google Colab e Google Planilhas\n",
        "from google.colab import auth\n",
        "import gspread\n",
        "from google.auth import default"
      ]
    },
    {
      "cell_type": "markdown",
      "source": [
        "### WEBSCRAPING"
      ],
      "metadata": {
        "id": "Msux7zQ_LFpx"
      }
    },
    {
      "cell_type": "code",
      "source": [
        "URL = 'https://www.infomoney.com.br/ferramentas/cambio/'\n",
        "HEADERS = {'user-agent':'Mozilla/5.0 (Windows NT 10.0; Win64; x64) AppleWebKit/537.36 (KHTML, like Gecko) Chrome/127.0.0.0 Safari/537.36'}"
      ],
      "metadata": {
        "id": "IPVFkxdj-6-e"
      },
      "execution_count": 2,
      "outputs": []
    },
    {
      "cell_type": "code",
      "source": [
        "requisicao = requests.get(URL, headers=HEADERS)\n",
        "tratamento = BeautifulSoup(requisicao.text, 'html.parser')"
      ],
      "metadata": {
        "id": "gpKnDUKRAEbk"
      },
      "execution_count": 3,
      "outputs": []
    },
    {
      "cell_type": "code",
      "source": [
        "site = tratamento.find('table', {'class':'default-table'})"
      ],
      "metadata": {
        "id": "O6kKGCZoBgCR"
      },
      "execution_count": 4,
      "outputs": []
    },
    {
      "cell_type": "code",
      "source": [
        "tabela = pd.read_html(str(site))"
      ],
      "metadata": {
        "id": "Obhqs1LJCsDN"
      },
      "execution_count": null,
      "outputs": []
    },
    {
      "cell_type": "code",
      "source": [
        "tabela = tabela[0].drop(columns=['Unnamed: 1'])"
      ],
      "metadata": {
        "id": "SItyZ1vRImUv"
      },
      "execution_count": 6,
      "outputs": []
    },
    {
      "cell_type": "markdown",
      "source": [
        "### INTEGRAR COLAB E PLANILHAS"
      ],
      "metadata": {
        "id": "W-nHDMpqLNAq"
      }
    },
    {
      "cell_type": "code",
      "source": [
        "auth.authenticate_user()\n",
        "creds, _ = default()\n",
        "gc = gspread.authorize(creds)"
      ],
      "metadata": {
        "id": "kWHP1X0dLXl5"
      },
      "execution_count": 7,
      "outputs": []
    },
    {
      "cell_type": "code",
      "source": [
        "gc.create('Cotacao')"
      ],
      "metadata": {
        "id": "QpnYg9eohbuH"
      },
      "execution_count": null,
      "outputs": []
    },
    {
      "cell_type": "code",
      "source": [
        "planilha = gc.open('Cotacao')"
      ],
      "metadata": {
        "id": "5oI7qb5zO8KM"
      },
      "execution_count": 9,
      "outputs": []
    },
    {
      "cell_type": "code",
      "source": [
        "gc.import_csv(planilha.id, tabela.to_csv(index=False))"
      ],
      "metadata": {
        "id": "YquWbseFQeV8"
      },
      "execution_count": 10,
      "outputs": []
    }
  ]
}